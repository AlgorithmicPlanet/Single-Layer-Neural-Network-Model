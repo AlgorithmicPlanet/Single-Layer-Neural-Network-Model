{
 "cells": [
  {
   "cell_type": "code",
   "execution_count": 1,
   "metadata": {},
   "outputs": [],
   "source": [
    "from tensorflow import keras\n",
    "import pandas as pd\n",
    "import numpy as np\n",
    "import seaborn as sns\n",
    "import matplotlib.pyplot as plt\n",
    "import warnings\n",
    "from sklearn.linear_model import LinearRegression\n",
    "warnings.filterwarnings('ignore')\n",
    "%matplotlib inline"
   ]
  },
  {
   "cell_type": "code",
   "execution_count": 2,
   "metadata": {},
   "outputs": [],
   "source": [
    "Temp_Data = pd.read_csv(\"Celsius-to-Fahrenheit.csv\")"
   ]
  },
  {
   "cell_type": "code",
   "execution_count": 3,
   "metadata": {},
   "outputs": [
    {
     "data": {
      "text/plain": [
       "Index(['Celsius', 'Fahrenheit'], dtype='object')"
      ]
     },
     "execution_count": 3,
     "metadata": {},
     "output_type": "execute_result"
    }
   ],
   "source": [
    "Temp_Data.columns"
   ]
  },
  {
   "cell_type": "code",
   "execution_count": 4,
   "metadata": {},
   "outputs": [
    {
     "data": {
      "text/plain": [
       "(30, 2)"
      ]
     },
     "execution_count": 4,
     "metadata": {},
     "output_type": "execute_result"
    }
   ],
   "source": [
    "Temp_Data.shape"
   ]
  },
  {
   "cell_type": "code",
   "execution_count": 5,
   "metadata": {},
   "outputs": [
    {
     "data": {
      "text/html": [
       "<div>\n",
       "<style scoped>\n",
       "    .dataframe tbody tr th:only-of-type {\n",
       "        vertical-align: middle;\n",
       "    }\n",
       "\n",
       "    .dataframe tbody tr th {\n",
       "        vertical-align: top;\n",
       "    }\n",
       "\n",
       "    .dataframe thead th {\n",
       "        text-align: right;\n",
       "    }\n",
       "</style>\n",
       "<table border=\"1\" class=\"dataframe\">\n",
       "  <thead>\n",
       "    <tr style=\"text-align: right;\">\n",
       "      <th></th>\n",
       "      <th>Celsius</th>\n",
       "      <th>Fahrenheit</th>\n",
       "    </tr>\n",
       "  </thead>\n",
       "  <tbody>\n",
       "    <tr>\n",
       "      <th>0</th>\n",
       "      <td>-50</td>\n",
       "      <td>-58.0</td>\n",
       "    </tr>\n",
       "    <tr>\n",
       "      <th>1</th>\n",
       "      <td>-40</td>\n",
       "      <td>-40.0</td>\n",
       "    </tr>\n",
       "    <tr>\n",
       "      <th>2</th>\n",
       "      <td>-30</td>\n",
       "      <td>-22.0</td>\n",
       "    </tr>\n",
       "    <tr>\n",
       "      <th>3</th>\n",
       "      <td>-20</td>\n",
       "      <td>-4.0</td>\n",
       "    </tr>\n",
       "    <tr>\n",
       "      <th>4</th>\n",
       "      <td>-10</td>\n",
       "      <td>14.0</td>\n",
       "    </tr>\n",
       "  </tbody>\n",
       "</table>\n",
       "</div>"
      ],
      "text/plain": [
       "   Celsius  Fahrenheit\n",
       "0      -50       -58.0\n",
       "1      -40       -40.0\n",
       "2      -30       -22.0\n",
       "3      -20        -4.0\n",
       "4      -10        14.0"
      ]
     },
     "execution_count": 5,
     "metadata": {},
     "output_type": "execute_result"
    }
   ],
   "source": [
    "Temp_Data.head()"
   ]
  },
  {
   "cell_type": "code",
   "execution_count": 6,
   "metadata": {},
   "outputs": [
    {
     "name": "stdout",
     "output_type": "stream",
     "text": [
      "<class 'pandas.core.frame.DataFrame'>\n",
      "RangeIndex: 30 entries, 0 to 29\n",
      "Data columns (total 2 columns):\n",
      "Celsius       30 non-null int64\n",
      "Fahrenheit    30 non-null float64\n",
      "dtypes: float64(1), int64(1)\n",
      "memory usage: 560.0 bytes\n"
     ]
    }
   ],
   "source": [
    "Temp_Data.info() "
   ]
  },
  {
   "cell_type": "code",
   "execution_count": 7,
   "metadata": {},
   "outputs": [
    {
     "data": {
      "text/plain": [
       "Celsius       30\n",
       "Fahrenheit    30\n",
       "dtype: int64"
      ]
     },
     "execution_count": 7,
     "metadata": {},
     "output_type": "execute_result"
    }
   ],
   "source": [
    "Temp_Data.isna().count() # No null value found"
   ]
  },
  {
   "cell_type": "code",
   "execution_count": 8,
   "metadata": {},
   "outputs": [
    {
     "data": {
      "text/html": [
       "<div>\n",
       "<style scoped>\n",
       "    .dataframe tbody tr th:only-of-type {\n",
       "        vertical-align: middle;\n",
       "    }\n",
       "\n",
       "    .dataframe tbody tr th {\n",
       "        vertical-align: top;\n",
       "    }\n",
       "\n",
       "    .dataframe thead th {\n",
       "        text-align: right;\n",
       "    }\n",
       "</style>\n",
       "<table border=\"1\" class=\"dataframe\">\n",
       "  <thead>\n",
       "    <tr style=\"text-align: right;\">\n",
       "      <th></th>\n",
       "      <th>Celsius</th>\n",
       "      <th>Fahrenheit</th>\n",
       "    </tr>\n",
       "  </thead>\n",
       "  <tbody>\n",
       "    <tr>\n",
       "      <th>count</th>\n",
       "      <td>30.000000</td>\n",
       "      <td>30.000000</td>\n",
       "    </tr>\n",
       "    <tr>\n",
       "      <th>mean</th>\n",
       "      <td>2.000000</td>\n",
       "      <td>35.600000</td>\n",
       "    </tr>\n",
       "    <tr>\n",
       "      <th>std</th>\n",
       "      <td>22.780815</td>\n",
       "      <td>41.005466</td>\n",
       "    </tr>\n",
       "    <tr>\n",
       "      <th>min</th>\n",
       "      <td>-50.000000</td>\n",
       "      <td>-58.000000</td>\n",
       "    </tr>\n",
       "    <tr>\n",
       "      <th>25%</th>\n",
       "      <td>-6.750000</td>\n",
       "      <td>19.850000</td>\n",
       "    </tr>\n",
       "    <tr>\n",
       "      <th>50%</th>\n",
       "      <td>0.500000</td>\n",
       "      <td>32.900000</td>\n",
       "    </tr>\n",
       "    <tr>\n",
       "      <th>75%</th>\n",
       "      <td>7.750000</td>\n",
       "      <td>45.950000</td>\n",
       "    </tr>\n",
       "    <tr>\n",
       "      <th>max</th>\n",
       "      <td>60.000000</td>\n",
       "      <td>140.000000</td>\n",
       "    </tr>\n",
       "  </tbody>\n",
       "</table>\n",
       "</div>"
      ],
      "text/plain": [
       "         Celsius  Fahrenheit\n",
       "count  30.000000   30.000000\n",
       "mean    2.000000   35.600000\n",
       "std    22.780815   41.005466\n",
       "min   -50.000000  -58.000000\n",
       "25%    -6.750000   19.850000\n",
       "50%     0.500000   32.900000\n",
       "75%     7.750000   45.950000\n",
       "max    60.000000  140.000000"
      ]
     },
     "execution_count": 8,
     "metadata": {},
     "output_type": "execute_result"
    }
   ],
   "source": [
    "Temp_Data.describe() # basic stats"
   ]
  },
  {
   "cell_type": "code",
   "execution_count": 9,
   "metadata": {},
   "outputs": [
    {
     "data": {
      "text/plain": [
       "<matplotlib.axes._subplots.AxesSubplot at 0x7fbebcf0b438>"
      ]
     },
     "execution_count": 9,
     "metadata": {},
     "output_type": "execute_result"
    },
    {
     "data": {
      "image/png": "[encoded data removed]",
      "text/plain": [
       "<Figure size 432x288 with 1 Axes>"
      ]
     },
     "metadata": {
      "needs_background": "light"
     },
     "output_type": "display_data"
    }
   ],
   "source": [
    "sns.scatterplot(x='Celsius',y='Fahrenheit',data=Temp_Data) # relation between x and y"
   ]
  },
  {
   "cell_type": "code",
   "execution_count": 10,
   "metadata": {},
   "outputs": [],
   "source": [
    "X_train = Temp_Data['Celsius']\n",
    "Y_train = Temp_Data['Fahrenheit'] # split in to x and y for trainig phaswe"
   ]
  },
  {
   "cell_type": "code",
   "execution_count": 11,
   "metadata": {},
   "outputs": [],
   "source": [
    "model = keras.Sequential()"
   ]
  },
  {
   "cell_type": "code",
   "execution_count": 13,
   "metadata": {},
   "outputs": [
    {
     "name": "stdout",
     "output_type": "stream",
     "text": [
      "WARNING:tensorflow:From /home/shoeb/anaconda3/lib/python3.7/site-packages/tensorflow/python/ops/init_ops.py:1251: calling VarianceScaling.__init__ (from tensorflow.python.ops.init_ops) with dtype is deprecated and will be removed in a future version.\n",
      "Instructions for updating:\n",
      "Call initializer instance with the dtype argument instead of passing it to the constructor\n"
     ]
    }
   ],
   "source": [
    "model.add(keras.layers.Dense(units=8,input_shape=[1]))\n",
    "model.add(keras.layers.Dense(units=32))\n",
    "model.add(keras.layers.Dense(units=1))"
   ]
  },
  {
   "cell_type": "code",
   "execution_count": 14,
   "metadata": {},
   "outputs": [
    {
     "name": "stdout",
     "output_type": "stream",
     "text": [
      "Model: \"sequential\"\n",
      "_________________________________________________________________\n",
      "Layer (type)                 Output Shape              Param #   \n",
      "=================================================================\n",
      "dense (Dense)                (None, 8)                 16        \n",
      "_________________________________________________________________\n",
      "dense_1 (Dense)              (None, 32)                288       \n",
      "_________________________________________________________________\n",
      "dense_2 (Dense)              (None, 1)                 33        \n",
      "=================================================================\n",
      "Total params: 337\n",
      "Trainable params: 337\n",
      "Non-trainable params: 0\n",
      "_________________________________________________________________\n"
     ]
    }
   ],
   "source": [
    "model.summary()"
   ]
  },
  {
   "cell_type": "code",
   "execution_count": 15,
   "metadata": {},
   "outputs": [],
   "source": [
    "model.compile(optimizer=keras.optimizers.Adam(0.5),loss='mean_squared_error')"
   ]
  },
  {
   "cell_type": "code",
   "execution_count": 16,
   "metadata": {},
   "outputs": [
    {
     "name": "stdout",
     "output_type": "stream",
     "text": [
      "Epoch 1/50\n",
      "30/30 [==============================] - 0s 7ms/sample - loss: 2130.6030\n",
      "Epoch 2/50\n",
      "30/30 [==============================] - 0s 42us/sample - loss: 854749.0000\n",
      "Epoch 3/50\n",
      "30/30 [==============================] - 0s 28us/sample - loss: 203117.4531\n",
      "Epoch 4/50\n",
      "30/30 [==============================] - 0s 32us/sample - loss: 23183.0625\n",
      "Epoch 5/50\n",
      "30/30 [==============================] - 0s 30us/sample - loss: 178205.6094\n",
      "Epoch 6/50\n",
      "30/30 [==============================] - 0s 29us/sample - loss: 172458.9375\n",
      "Epoch 7/50\n",
      "30/30 [==============================] - 0s 36us/sample - loss: 4295.0439\n",
      "Epoch 8/50\n",
      "30/30 [==============================] - 0s 37us/sample - loss: 319968.6562\n",
      "Epoch 9/50\n",
      "30/30 [==============================] - 0s 31us/sample - loss: 257000.7344\n",
      "Epoch 10/50\n",
      "30/30 [==============================] - 0s 35us/sample - loss: 29493.3477\n",
      "Epoch 11/50\n",
      "30/30 [==============================] - 0s 83us/sample - loss: 2030.7552\n",
      "Epoch 12/50\n",
      "30/30 [==============================] - 0s 76us/sample - loss: 7886.9888\n",
      "Epoch 13/50\n",
      "30/30 [==============================] - 0s 69us/sample - loss: 66.2379\n",
      "Epoch 14/50\n",
      "30/30 [==============================] - 0s 69us/sample - loss: 33778.1289\n",
      "Epoch 15/50\n",
      "30/30 [==============================] - 0s 68us/sample - loss: 85992.0547\n",
      "Epoch 16/50\n",
      "30/30 [==============================] - 0s 48us/sample - loss: 20195.2988\n",
      "Epoch 17/50\n",
      "30/30 [==============================] - 0s 40us/sample - loss: 23002.5566\n",
      "Epoch 18/50\n",
      "30/30 [==============================] - 0s 58us/sample - loss: 77524.0312\n",
      "Epoch 19/50\n",
      "30/30 [==============================] - 0s 53us/sample - loss: 10412.1514\n",
      "Epoch 20/50\n",
      "30/30 [==============================] - 0s 45us/sample - loss: 29309.6523\n",
      "Epoch 21/50\n",
      "30/30 [==============================] - 0s 34us/sample - loss: 52084.9297\n",
      "Epoch 22/50\n",
      "30/30 [==============================] - 0s 70us/sample - loss: 1488.0491\n",
      "Epoch 23/50\n",
      "30/30 [==============================] - 0s 77us/sample - loss: 24631.9023\n",
      "Epoch 24/50\n",
      "30/30 [==============================] - 0s 73us/sample - loss: 33854.3516\n",
      "Epoch 25/50\n",
      "30/30 [==============================] - 0s 74us/sample - loss: 4382.0249\n",
      "Epoch 26/50\n",
      "30/30 [==============================] - 0s 62us/sample - loss: 6729.6250\n",
      "Epoch 27/50\n",
      "30/30 [==============================] - 0s 75us/sample - loss: 22106.9980\n",
      "Epoch 28/50\n",
      "30/30 [==============================] - 0s 74us/sample - loss: 12013.6660\n",
      "Epoch 29/50\n",
      "30/30 [==============================] - 0s 61us/sample - loss: 339.0891\n",
      "Epoch 30/50\n",
      "30/30 [==============================] - 0s 58us/sample - loss: 3843.6567\n",
      "Epoch 31/50\n",
      "30/30 [==============================] - 0s 50us/sample - loss: 9810.5654\n",
      "Epoch 32/50\n",
      "30/30 [==============================] - 0s 43us/sample - loss: 8224.6162\n",
      "Epoch 33/50\n",
      "30/30 [==============================] - 0s 45us/sample - loss: 2797.3665\n",
      "Epoch 34/50\n",
      "30/30 [==============================] - 0s 38us/sample - loss: 76.1057\n",
      "Epoch 35/50\n",
      "30/30 [==============================] - 0s 284us/sample - loss: 1267.4331\n",
      "Epoch 36/50\n",
      "30/30 [==============================] - 0s 37us/sample - loss: 3637.0796\n",
      "Epoch 37/50\n",
      "30/30 [==============================] - 0s 35us/sample - loss: 4588.6787\n",
      "Epoch 38/50\n",
      "30/30 [==============================] - 0s 34us/sample - loss: 3642.3455\n",
      "Epoch 39/50\n",
      "30/30 [==============================] - 0s 37us/sample - loss: 1875.7841\n",
      "Epoch 40/50\n",
      "30/30 [==============================] - 0s 41us/sample - loss: 490.8715\n",
      "Epoch 41/50\n",
      "30/30 [==============================] - 0s 59us/sample - loss: 5.8716\n",
      "Epoch 42/50\n",
      "30/30 [==============================] - 0s 50us/sample - loss: 266.8200\n",
      "Epoch 43/50\n",
      "30/30 [==============================] - 0s 46us/sample - loss: 803.3677\n",
      "Epoch 44/50\n",
      "30/30 [==============================] - 0s 29us/sample - loss: 1175.5660\n",
      "Epoch 45/50\n",
      "30/30 [==============================] - 0s 30us/sample - loss: 1178.0276\n",
      "Epoch 46/50\n",
      "30/30 [==============================] - 0s 28us/sample - loss: 866.4056\n",
      "Epoch 47/50\n",
      "30/30 [==============================] - 0s 49us/sample - loss: 445.7616\n",
      "Epoch 48/50\n",
      "30/30 [==============================] - 0s 51us/sample - loss: 121.2602\n",
      "Epoch 49/50\n",
      "30/30 [==============================] - 0s 50us/sample - loss: 1.0840\n",
      "Epoch 50/50\n",
      "30/30 [==============================] - 0s 51us/sample - loss: 77.5038\n"
     ]
    }
   ],
   "source": [
    "epoch_history = model.fit(X_train,Y_train,epochs=50)"
   ]
  },
  {
   "cell_type": "code",
   "execution_count": 17,
   "metadata": {},
   "outputs": [],
   "source": [
    "history = epoch_history.history.keys()"
   ]
  },
  {
   "cell_type": "code",
   "execution_count": 18,
   "metadata": {},
   "outputs": [
    {
     "data": {
      "text/plain": [
       "dict_keys(['loss'])"
      ]
     },
     "execution_count": 18,
     "metadata": {},
     "output_type": "execute_result"
    }
   ],
   "source": [
    "history"
   ]
  },
  {
   "cell_type": "code",
   "execution_count": 19,
   "metadata": {},
   "outputs": [
    {
     "data": {
      "text/plain": [
       "<matplotlib.legend.Legend at 0x7f51dc5e3e48>"
      ]
     },
     "execution_count": 19,
     "metadata": {},
     "output_type": "execute_result"
    },
    {
     "data": {
      "image/png": "[encoded data removed]",
      "text/plain": [
       "<Figure size 432x288 with 1 Axes>"
      ]
     },
     "metadata": {
      "needs_background": "light"
     },
     "output_type": "display_data"
    }
   ],
   "source": [
    "plt.plot(epoch_history.history['loss'])\n",
    "plt.title('Fn to cc convertion')\n",
    "plt.xlabel('epoch')\n",
    "plt.ylabel('loss')\n",
    "plt.legend(['training'])"
   ]
  },
  {
   "cell_type": "code",
   "execution_count": 20,
   "metadata": {},
   "outputs": [
    {
     "data": {
      "text/plain": [
       "array([[31.186811],\n",
       "       [34.43819 ]], dtype=float32)"
      ]
     },
     "execution_count": 20,
     "metadata": {},
     "output_type": "execute_result"
    }
   ],
   "source": [
    "model.predict([0,3])"
   ]
  },
  {
   "cell_type": "code",
   "execution_count": 21,
   "metadata": {},
   "outputs": [
    {
     "data": {
      "text/plain": [
       "[array([[ 0.5163747 , -0.19069661, -0.54567826,  0.625249  , -0.01211531,\n",
       "          0.15942399, -0.24231635,  0.6136475 ]], dtype=float32),\n",
       " array([ 0.20705166, -1.0981958 , -1.8594143 ,  1.5449784 , -1.0570468 ,\n",
       "         1.0489342 , -1.2298415 ,  0.55685365], dtype=float32),\n",
       " array([[-1.3483208 , -1.2864475 , -1.1999809 ,  0.8903197 , -0.93908787,\n",
       "          1.1005361 ,  1.3877932 ,  1.0878557 ,  1.3788686 , -1.1796896 ,\n",
       "         -1.1561168 ,  1.0252061 ,  0.7735977 , -1.0217502 , -0.9017707 ,\n",
       "          1.9976215 ,  0.7937752 , -1.2255393 , -1.4210353 , -1.5851278 ,\n",
       "          1.0357296 ,  0.96714634, -1.1892927 ,  1.1966027 ,  0.9210705 ,\n",
       "          1.3586881 , -1.3083532 , -1.1851883 ,  1.3405727 , -1.2973619 ,\n",
       "         -1.5732287 ,  1.1550494 ],\n",
       "        [-1.3014017 , -0.44333905, -0.5821482 ,  0.622925  , -0.14728707,\n",
       "          0.39427632,  0.7442731 ,  0.49505547,  0.7360283 , -0.45807648,\n",
       "         -0.8819368 ,  0.05872751,  0.06424218, -0.37442055, -0.44084224,\n",
       "          1.1376386 ,  0.5586987 , -0.5635147 , -1.2707932 , -0.21287084,\n",
       "          0.38359702,  0.42422417, -0.7455586 , -0.08045185,  0.41500798,\n",
       "          0.94525164, -0.71651644, -0.46218228,  0.18656634, -0.76443756,\n",
       "         -0.96951675,  0.67168003],\n",
       "        [ 0.48527706, -1.2410412 ,  0.47419706, -0.7213158 ,  0.75739247,\n",
       "          1.2538034 , -0.60562724,  1.1492267 ,  1.3072273 , -1.3998234 ,\n",
       "          0.16844487,  1.3311126 ,  1.444575  , -1.4259162 , -1.2604935 ,\n",
       "         -0.2721729 ,  1.2421556 , -1.4337084 ,  0.31498334, -1.4837501 ,\n",
       "         -0.2089769 ,  1.2421095 ,  0.41606784,  1.3415532 ,  1.3109769 ,\n",
       "          1.1176202 , -1.116572  , -1.2523218 ,  1.464166  , -1.2885071 ,\n",
       "          0.3743334 ,  1.2051034 ],\n",
       "        [ 0.6484427 ,  0.4808651 ,  0.5127113 , -0.6141982 ,  0.71029776,\n",
       "         -0.26776916, -1.015532  , -0.26886004, -0.13962023,  0.23996031,\n",
       "          0.73962724, -0.1077688 ,  0.19778799,  0.05286722, -0.32322034,\n",
       "         -0.8296994 , -0.22425006, -0.35914183,  0.69898415,  0.05410256,\n",
       "         -0.30160818, -0.06346935,  0.7801261 , -0.1191636 , -0.13207257,\n",
       "         -0.17032735,  0.50851655,  0.39506593,  0.25308263,  0.42467126,\n",
       "          0.82666475, -0.21092087],\n",
       "        [-1.6830968 , -0.45399874, -0.78719795,  1.0919762 , -0.9816049 ,\n",
       "          0.01839361,  1.177957  ,  0.17167811,  0.88310796, -0.5962311 ,\n",
       "         -1.0031796 ,  0.25250328,  0.17511347, -0.63865703, -0.14653109,\n",
       "          1.1547463 , -0.06159381, -0.09350007, -1.0389434 , -0.40773362,\n",
       "          1.0226583 ,  0.88140684, -0.85903174, -0.0618077 ,  0.01495561,\n",
       "          0.5508412 , -0.5839473 , -0.46439728, -0.1438973 , -0.7633742 ,\n",
       "         -1.052436  ,  0.6328126 ],\n",
       "        [ 1.2586709 ,  0.606442  ,  0.50910205, -0.8931939 ,  0.6528018 ,\n",
       "         -0.48204547, -1.2512535 , -0.350387  , -0.9654161 ,  0.9607643 ,\n",
       "          0.6178452 , -0.5867945 ,  0.04841414,  0.36234555,  0.73301667,\n",
       "         -0.89330035, -0.4867469 ,  0.505056  ,  0.57414013,  0.24205719,\n",
       "         -0.9400271 , -1.0781422 ,  0.35972413, -0.5113786 , -0.10233054,\n",
       "         -0.50840485,  0.59860766,  0.42014727, -0.38438475,  0.74373215,\n",
       "          1.2610207 , -0.43330646],\n",
       "        [-1.1796489 , -0.3832768 , -1.0360594 ,  0.82070297, -0.5194073 ,\n",
       "         -0.01791569,  0.89301   ,  0.12296443,  0.39582384, -0.5919857 ,\n",
       "         -1.0813957 ,  0.3697458 ,  0.11472087, -0.27940148, -0.28948545,\n",
       "          0.96255845, -0.03323471, -0.06918065, -1.2822018 , -0.11041926,\n",
       "          0.5269957 ,  0.27146104, -0.3353901 ,  0.2725708 ,  0.17492981,\n",
       "          0.33603764, -0.72589415, -0.28173172,  0.5205533 , -1.3436188 ,\n",
       "         -0.79078865,  0.7021174 ],\n",
       "        [-1.9244657 , -1.1136348 , -0.96187794,  1.3897657 , -0.7123282 ,\n",
       "          1.1529137 ,  1.6540158 ,  1.449834  ,  1.5547464 , -1.1297253 ,\n",
       "         -1.7337201 ,  1.083738  ,  1.1198769 , -1.4554151 , -0.9511802 ,\n",
       "          1.6331412 ,  1.0023924 , -1.2108613 , -1.4102317 , -1.1356759 ,\n",
       "          1.0398566 ,  1.2625017 , -0.8993461 ,  1.1312618 ,  1.1594352 ,\n",
       "          1.6940254 , -1.7080678 , -1.5639899 ,  1.1860799 , -1.2493817 ,\n",
       "         -1.3410366 ,  1.100228  ]], dtype=float32),\n",
       " array([-2.838123 ,  3.3794098, -2.8193023,  2.8837206, -2.7690632,\n",
       "        -3.8770952,  2.7718585, -3.8060756, -2.5733788,  3.0009317,\n",
       "        -2.8246522, -3.853158 , -4.1884646,  3.7578442,  3.8890777,\n",
       "         2.876319 , -3.871204 ,  3.8148978, -2.8451066,  3.8521953,\n",
       "         2.7396195, -3.2589142, -2.893951 , -3.8074942, -3.9107   ,\n",
       "        -3.1272247,  2.7121687,  3.2423804, -3.7283683,  2.3275807,\n",
       "        -2.764263 , -3.1764128], dtype=float32),\n",
       " array([[-0.71655107],\n",
       "        [ 0.31246686],\n",
       "        [-0.08065935],\n",
       "        [-0.4695387 ],\n",
       "        [ 0.09042663],\n",
       "        [-0.18022254],\n",
       "        [ 0.54085314],\n",
       "        [-0.26203695],\n",
       "        [-0.2762097 ],\n",
       "        [ 0.23667203],\n",
       "        [-0.35522828],\n",
       "        [-0.19973083],\n",
       "        [ 0.03476692],\n",
       "        [ 0.32441992],\n",
       "        [ 0.10628431],\n",
       "        [ 0.49866703],\n",
       "        [-0.08368008],\n",
       "        [ 0.06252267],\n",
       "        [-0.46216077],\n",
       "        [ 0.21172032],\n",
       "        [ 0.08393852],\n",
       "        [-0.2664602 ],\n",
       "        [ 0.07215489],\n",
       "        [-0.02868316],\n",
       "        [-0.06179233],\n",
       "        [-0.34576163],\n",
       "        [ 0.4206621 ],\n",
       "        [ 0.16608386],\n",
       "        [ 0.00077716],\n",
       "        [ 0.5713459 ],\n",
       "        [-0.50316787],\n",
       "        [-0.20855999]], dtype=float32),\n",
       " array([3.901505], dtype=float32)]"
      ]
     },
     "execution_count": 21,
     "metadata": {},
     "output_type": "execute_result"
    }
   ],
   "source": [
    "model.get_weights()"
   ]
  },
  {
   "cell_type": "code",
   "execution_count": 22,
   "metadata": {},
   "outputs": [],
   "source": [
    "model.save('Fn_to_cc')"
   ]
  },
  {
   "cell_type": "code",
   "execution_count": 12,
   "metadata": {},
   "outputs": [],
   "source": [
    "X_train1= X_train.values.reshape(-1,1)"
   ]
  },
  {
   "cell_type": "code",
   "execution_count": 13,
   "metadata": {},
   "outputs": [],
   "source": [
    "Y_train1= Y_train.values.reshape(-1,1)"
   ]
  },
  {
   "cell_type": "code",
   "execution_count": 14,
   "metadata": {},
   "outputs": [],
   "source": [
    "Regressor = LinearRegression(fit_intercept=True)"
   ]
  },
  {
   "cell_type": "code",
   "execution_count": 19,
   "metadata": {},
   "outputs": [
    {
     "data": {
      "text/plain": [
       "LinearRegression(copy_X=True, fit_intercept=True, n_jobs=None,\n",
       "         normalize=False)"
      ]
     },
     "execution_count": 19,
     "metadata": {},
     "output_type": "execute_result"
    }
   ],
   "source": [
    "Regressor.fit(X_train1,Y_train1)"
   ]
  },
  {
   "cell_type": "code",
   "execution_count": 21,
   "metadata": {},
   "outputs": [
    {
     "data": {
      "text/plain": [
       "array([[1.8]])"
      ]
     },
     "execution_count": 21,
     "metadata": {},
     "output_type": "execute_result"
    }
   ],
   "source": [
    "Regressor.coef_"
   ]
  },
  {
   "cell_type": "code",
   "execution_count": 22,
   "metadata": {},
   "outputs": [
    {
     "data": {
      "text/plain": [
       "array([32.])"
      ]
     },
     "execution_count": 22,
     "metadata": {},
     "output_type": "execute_result"
    }
   ],
   "source": [
    "Regressor.intercept_\n"
   ]
  },
  {
   "cell_type": "code",
   "execution_count": 23,
   "metadata": {},
   "outputs": [
    {
     "data": {
      "text/plain": [
       "<function matplotlib.pyplot.plot(*args, scalex=True, scaley=True, data=None, **kwargs)>"
      ]
     },
     "execution_count": 23,
     "metadata": {},
     "output_type": "execute_result"
    },
    {
     "data": {
      "image/png": "[encoded data removed]",
      "text/plain": [
       "<Figure size 432x288 with 1 Axes>"
      ]
     },
     "metadata": {
      "needs_background": "light"
     },
     "output_type": "display_data"
    }
   ],
   "source": [
    "plt.scatter(X_train1,Y_train1)\n",
    "plt.plot"
   ]
  },
  {
   "cell_type": "code",
   "execution_count": null,
   "metadata": {},
   "outputs": [],
   "source": []
  }
 ],
 "metadata": {
  "kernelspec": {
   "display_name": "Python 3",
   "language": "python",
   "name": "python3"
  },
  "language_info": {
   "codemirror_mode": {
    "name": "ipython",
    "version": 3
   },
   "file_extension": ".py",
   "mimetype": "text/x-python",
   "name": "python",
   "nbconvert_exporter": "python",
   "pygments_lexer": "ipython3",
   "version": "3.7.3"
  }
 },
 "nbformat": 4,
 "nbformat_minor": 2
}
